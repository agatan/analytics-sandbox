{
 "cells": [
  {
   "cell_type": "code",
   "execution_count": 2,
   "metadata": {},
   "outputs": [],
   "source": [
    "import os\n",
    "\n",
    "DOWNLOAD_ROOT = \"http://spamassassin.apache.org/old/publiccorpus/\"\n",
    "HAM_URL = DOWNLOAD_ROOT + \"20030228_easy_ham.tar.bz2\"\n",
    "SPAM_URL = DOWNLOAD_ROOT + \"20030228_spam.tar.bz2\"\n",
    "SPAM_PATH = os.path.join(\"datasets\", \"spam\")"
   ]
  },
  {
   "cell_type": "code",
   "execution_count": 19,
   "metadata": {},
   "outputs": [],
   "source": [
    "import urllib.request\n",
    "import tarfile\n",
    "from pathlib import Path\n",
    "\n",
    "def fetch_email_data(spam_path=SPAM_PATH):\n",
    "    spam_path = Path(spam_path)\n",
    "    if not spam_path.is_dir():\n",
    "        spam_path.mkdir()\n",
    "    for name, url in [('ham.tar.bz2', HAM_URL), ('spam.tar.bz2', SPAM_URL)]:\n",
    "        filepath = spam_path / name\n",
    "        if not filepath.is_file():\n",
    "            urllib.request.urlretrieve(url, filepath)\n",
    "        with tarfile.open(filepath) as f:\n",
    "            f.extractall(path=spam_path)"
   ]
  },
  {
   "cell_type": "code",
   "execution_count": 20,
   "metadata": {},
   "outputs": [],
   "source": [
    "fetch_email_data(SPAM_PATH)"
   ]
  },
  {
   "cell_type": "code",
   "execution_count": 26,
   "metadata": {},
   "outputs": [
    {
     "name": "stdout",
     "output_type": "stream",
     "text": [
      "501\n",
      "2501\n"
     ]
    }
   ],
   "source": [
    "spam_path = Path(SPAM_PATH)\n",
    "spam_dir = spam_path / 'spam'\n",
    "ham_dir = spam_path / 'easy_ham'\n",
    "\n",
    "print(len(list(spam_dir.iterdir())))\n",
    "print(len(list(ham_dir.iterdir())))"
   ]
  },
  {
   "cell_type": "code",
   "execution_count": 27,
   "metadata": {},
   "outputs": [],
   "source": [
    "import email\n",
    "import email.policy\n",
    "\n",
    "def load_email(filepath):\n",
    "    with open(filepath, 'rb') as f:\n",
    "        return email.parser.BytesParser(policy=email.policy.default).parse(f)"
   ]
  },
  {
   "cell_type": "code",
   "execution_count": 29,
   "metadata": {},
   "outputs": [],
   "source": [
    "spams = [load_email(filepath) for filepath in spam_dir.iterdir() if filepath.is_file()]\n",
    "hams = [load_email(filepath) for filepath in ham_dir.iterdir() if filepath.is_file()]"
   ]
  },
  {
   "cell_type": "code",
   "execution_count": 34,
   "metadata": {},
   "outputs": [
    {
     "name": "stdout",
     "output_type": "stream",
     "text": [
      "SPAM:\n",
      "<html>\n",
      "<head>\n",
      "</head>\n",
      "<body>\n",
      "<p align=\"center\"><font style=\"font-size: 11pt\" face=\"Courier\">Volume 8, Issue 35 - Sept. 2002</font></p>\n",
      "<p align=\"center\"><b><a href=\"http://www.globalcybercollective.com/BBAN_9_2002.htm\">CLICK HERE</a></b></p>\n",
      "<p align=\"center\"><img border=\"0\" src=\"http://www.globalcybercollective.com/WSBulletinEmail5.bmp\"></p>\n",
      "<p align=\"left\">&nbsp;</p>\n",
      "<p align=\"left\">&nbsp;</p>\n",
      "<p align=\"center\"><font size=\"2\">I no longer wish to receive your newsletter <a href=\"mailto:WSB20000@444.net?subject=takeoff\"><b>click here</b></a></font></p>\n",
      "</body>\n",
      "</html>\n",
      "\n",
      "urfrdemubblkunmdbyh\n",
      "\n",
      "HAM:\n",
      "[Neale Pickett]\n",
      "> ...\n",
      "> If you can spare the memory, you might get better performance in this\n",
      "> case using the pickle store, since it only has to go to disk once (but\n",
      "> boy, does it ever go to disk!)  I can't think of anything obvious to\n",
      "> speed things up once it's all loaded into memory, though.\n",
      "\n",
      "On my box the current system scores about 50 msgs per second (starting in\n",
      "memory, of course).  While that can be a drag while waiting for one of my\n",
      "full test runs to complete (one of those scores a message more than 120,000\n",
      "times, and trains more than 30,000 times), I've got no urge to do any speed\n",
      "optimizations -- if I were using this for my own email, I'd never notice the\n",
      "drag.  Guido will bitch like hell about waiting an extra second for his\n",
      "50-msg batches to score, but he's the boss so he bitches about everything\n",
      "<wink>.\n",
      "\n",
      "> That's profiler territory, and profiling is exactly the kind of\n",
      "> optimization I just said I wasn't going to do :)\n",
      "\n",
      "I haven't profiled yet, but *suspect* there aren't any egregious hot spots.\n",
      "5-gram'ing of long words with high-bit characters is likely overly expensive\n",
      "*when* it happens, but it doesn't happen that often, and as an approach to\n",
      "non-English languages it sucks anyway (i.e., there's no point speeding\n",
      "something that ought to be replaced entirely).\n"
     ]
    }
   ],
   "source": [
    "print(\"SPAM:\")\n",
    "print(spams[0].get_content().strip())\n",
    "\n",
    "print()\n",
    "print(\"HAM:\")\n",
    "print(hams[0].get_content().strip())"
   ]
  },
  {
   "cell_type": "code",
   "execution_count": 42,
   "metadata": {},
   "outputs": [
    {
     "name": "stdout",
     "output_type": "stream",
     "text": [
      "[('text/plain', 2409), ('multipart/signed', 68), ('multipart/mixed', 10), ('multipart/alternative', 9), ('multipart/related', 3), ('multipart/report', 2)]\n",
      "[('text/plain', 219), ('text/html', 183), ('multipart/alternative', 47), ('multipart/mixed', 43), ('multipart/related', 9)]\n"
     ]
    }
   ],
   "source": [
    "from collections import Counter\n",
    "\n",
    "print(Counter([e.get_content_type() for e in hams]).most_common())\n",
    "print(Counter([e.get_content_type() for e in spams]).most_common())"
   ]
  },
  {
   "cell_type": "code",
   "execution_count": 44,
   "metadata": {},
   "outputs": [
    {
     "data": {
      "text/plain": [
       "[('Return-Path', 'tim.one@comcast.net'),\n",
       " ('Delivery-Date', 'Sun Sep  8 21:36:15 2002'),\n",
       " ('From', 'tim.one@comcast.net'),\n",
       " ('Date', 'Sun, 08 Sep 2002 16:36:15 -0400'),\n",
       " ('Subject', '[Spambayes] Ditching WordInfo'),\n",
       " ('In-Reply-To', '<w537khybba6.fsf@woozle.org>'),\n",
       " ('Message-ID', '<LNBBLJKPBEHFEDALKOLCCEPNBCAB.tim.one@comcast.net>')]"
      ]
     },
     "execution_count": 44,
     "metadata": {},
     "output_type": "execute_result"
    }
   ],
   "source": [
    "h.items()"
   ]
  },
  {
   "cell_type": "code",
   "execution_count": 52,
   "metadata": {},
   "outputs": [],
   "source": [
    "import numpy as np\n",
    "from sklearn.model_selection import train_test_split\n",
    "\n",
    "X = np.array(hams + spams)\n",
    "y = np.array([0] * len(hams) + [1] * len(spams))\n",
    "\n",
    "X_train, X_test, y_train, y_test = train_test_split(X, y, test_size=0.2)"
   ]
  },
  {
   "cell_type": "code",
   "execution_count": 53,
   "metadata": {},
   "outputs": [
    {
     "data": {
      "text/plain": [
       "array([<email.message.EmailMessage object at 0x7fe4db355cf8>,\n",
       "       <email.message.EmailMessage object at 0x7fe4e84ede48>,\n",
       "       <email.message.EmailMessage object at 0x7fe4db3d4d68>, ...,\n",
       "       <email.message.EmailMessage object at 0x7fe4e84ed668>,\n",
       "       <email.message.EmailMessage object at 0x7fe4dbf954e0>,\n",
       "       <email.message.EmailMessage object at 0x7fe4e8492940>],\n",
       "      dtype=object)"
      ]
     },
     "execution_count": 53,
     "metadata": {},
     "output_type": "execute_result"
    }
   ],
   "source": [
    "X_train"
   ]
  },
  {
   "cell_type": "code",
   "execution_count": 54,
   "metadata": {},
   "outputs": [],
   "source": [
    "import re\n",
    "from html import unescape\n",
    "\n",
    "def html_to_text(html):\n",
    "    text = re.sub('<head.*?>.*?</head>', '', html, flags=re.M | re.S | re.I)\n",
    "    text = re.sub('<a\\s.*?>', ' HYPERLINK ', text, flags=re.M | re.S | re.I)\n",
    "    text = re.sub('<.*?>', '', text, flags=re.M | re.S)\n",
    "    text = re.sub(r'(\\s*\\n)+', '\\n', text, flags=re.M | re.S)\n",
    "    return unescape(text)\n",
    "\n",
    "def email_to_text(email):\n",
    "    html = None\n",
    "    for part in email.walk():\n",
    "        ctype = part.get_content_type()\n",
    "        if ctype not in ['text/plain', 'text/html']:\n",
    "            continue\n",
    "        try:\n",
    "            content = part.get_content()\n",
    "        except:\n",
    "            content = str(part.get_payload())\n",
    "        if ctype == 'text/plain':\n",
    "            return content\n",
    "        else:\n",
    "            html = content\n",
    "    if html:\n",
    "        return html_to_text(html)"
   ]
  },
  {
   "cell_type": "code",
   "execution_count": 55,
   "metadata": {},
   "outputs": [
    {
     "data": {
      "text/plain": [
       "'First, misattribution.  I did not write the blurb below.  I made one\\nstatement about VP Cheney only, to wit, that he has a short memory.\\n\\nI couldn\\'t agree with you more on this: \"in short, then, economics is not a\\nzero sum game, property is not theft, the rich don\\'t get rich off the backs\\nof the poor, and redistributionist labor \"theory\" of value happy horseshit\\nis just that: horseshit, happy or otherwise,\" however, I resent being lumped\\nin a zero-sum-zealot category for suggesting nothing more than that rich and\\nsuccessful at face value is apropos of nothing and I am beginning to\\nunderstand that people who immediately and so fiercely object to my ad\\nhominem (re Cheney) align themselves weird sylogisms like \"if rich then\\ndeservedly\" or \"if rich then smarter.\"  Given that, I am also beginning to\\nunderstand why some people NEED to be rich.\\n\\nWRT to meritocracies - all hail, meritocracies!  WRT Harvard: over 90% of\\n2002 graduates were cum laude +. INTERESTING curve.  Those eager to be\\nmeasured got their wish; those unwashed shy folk who just live it provide\\nthe balast.\\n\\nSpeaking of Forbes, was reading about Peter Norton just today in an old\\nissue while waiting for my doctor.  Norton attributes his success to LUCK.\\nImagine.\\n\\nGeege\\n\\n-----Original Message-----\\nFrom: R. A. Hettinga [mailto:rah@shipwright.com]\\nSent: Sunday, September 22, 2002 10:01 PM\\nTo: Geege Schuman; Owen Byrne\\nCc: Gary Lawrence Murphy; Mr. FoRK; fork@spamassassin.taint.org; Digital Bearer\\nSettlement List\\nSubject: Comrade Communism (was Re: Crony Capitalism (was RE: sed\\n/s/United States/Roman Empire/g))\\n\\n\\n-----BEGIN PGP SIGNED MESSAGE-----\\nHash: SHA1\\n\\nAt 11:15 AM -0400 on 9/22/02, Geege Schuman wrote:\\n\\n\\n> Most of them seem to have Ivy League educations, or are Ivy League\\n> dropouts suggesting to me that they weren\\'t exactly poor to start\\n> with.\\n\\nActually, if I remember correctly from discussion of the list\\'s\\ncomposition in Forbes about five or six years ago, the *best* way to\\nget on the Forbes 400 is to have *no* college at all. Can you say\\n\"Bootstraps\", boys and girls? I knew you could...\\n\\n[Given that an undergraduate liberal arts degree from a state school,\\nlike, say, mine, :-), is nothing but stuff they should have taught\\nyou in a government-run \"high\" school, you\\'ll probably get more of\\n*those* on the Forbes 400 as well as time goes on. If we ever get\\naround to having a good old fashioned government-collapsing\\ntransfer-payment depression (an economic version of this summer\\'s\\ngovernment-forest conflagration, caused by the same kind of\\ninnumeracy that not clear-cutting enough forests did out west this\\nsummer :-)) that should motivate more than a few erst-slackers out\\nthere, including me, :-), to learn to actually feed themselves.]\\n\\n\\nThe *next* category on the Forbes 400 list is someone with a\\n\"terminal\" professional degree, like an MBA, PhD, MD, etc., from the\\nbest school possible.\\n\\nWhy? Because, as of about 1950, the *best* way to get into Harvard,\\nfor instance, is to be *smart*, not rich. Don\\'t take my word for it,\\nask their admissions office. Look at the admissions stats over the\\nyears for proof.\\n\\nMeritocracy, American Style, was *invented* at the Ivy League after\\nWorld War II. Even Stanford got the hint, :-), and, of course,\\nChicago taught them all how, right? :-). Practically *nobody* who\\ngoes to a top-20 American institution of higher learning can actually\\nafford to go there these days. Unless, of course, their parents, who\\ncouldn\\'t afford to go there themselves, got terminal degrees in the\\nlast 40 years or so. And their kids *still* had to get the grades,\\nand \"biased\" (by intelligence :-)), test scores, to get in.\\n\\n\\nThe bizarre irony is that almost all of those people with \"terminal\"\\ndegrees, until they actually *own* something and *hire* people, or\\nlearn to *make* something for a living all day on a profit and loss\\nbasis, persist in the practically insane belief, like life after\\ndeath, that economics is some kind of zero sum game, that dumb people\\nwho don\\'t work hard for it make all the money, and, if someone *is*\\nsmart, works hard, and is rich, then they stole their wealth somehow.\\n\\nBTW, none of you guys out there holding the short end of this\\nrhetorical stick can blame *me* for the fact that I\\'m using it to\\nbeat you severely all over your collective head and shoulders. You\\nwere, apparently, too dumb to grab the right end. *I* went to\\nMissouri, and *I* don\\'t have a degree in anything actually useful,\\nmuch less a \"terminal\" one, which means *I*\\'m broker than anyone on\\nthis list -- it\\'s just that *you*, of all people, lots with\\neducations far surpassing my own, should just plain know better. The\\nfacts speak for themselves, if you just open your eyes and *look*.\\nThere are no epicycles, the universe does not orbit the earth, and\\neconomics is not a zero-sum game. The cost of anything, including\\nignorance and destitution, is the forgone alternative, in this case,\\nintelligence and effort.\\n\\n[I will, however, admit to being educated *waay* past my level of\\ncompetence, and, by the way *you* discuss economics, so have you,\\napparently.]\\n\\n\\n\\nBTW, if we ever actually *had* free markets in this country,\\n*including* the abolition of redistributive income and death taxes,\\nall those smart people in the Forbes 400 would have *more* money, and\\nthere would be *more* self-made people on that list. In addition,\\nmost of the people who *inherited* money on the list would have\\n*much* less of it, not even relatively speaking. Finally, practically\\nall of that \"new\" money would have come from economic efficiency and\\nnot \"stolen\" from someone else, investment bubbles or not.\\n\\nThat efficiency is called \"progress\", for those of you in The\\nPeople\\'s Republics of Berkeley or Cambridge. It means more and better\\nstuff, cheaper, over time -- a terrible, petit-bourgeois concept\\napparently not worthy of teaching by the educational elite, or you\\'d\\nknow about it by now. In economic terms, it\\'s also called an increase\\nin general welfare, and, no, Virginia, I\\'m not talking about\\nextorting money from someone who works, and giving it to someone who\\ndoesn\\'t in order to keep them from working and they can think of some\\npolitician as Santa Claus come election time...\\n\\n\\nIn short, then, economics is not a zero sum game, property is not\\ntheft, the rich don\\'t get rich off the backs of the poor, and\\nredistributionist labor \"theory\" of value happy horseshit is just\\nthat: horseshit, happy or otherwise.\\n\\nTo believe otherwise, is -- quite literally, given the time Marx\\nwrote Capital and the Manifesto -- romantic nonsense.\\n\\nCheers,\\nRAH\\n\\n-----BEGIN PGP SIGNATURE-----\\nVersion: PGP 7.5\\n\\niQA/AwUBPY511cPxH8jf3ohaEQLAsgCfZhsQMSvUy6GqJ5wgL52DwZKpIhMAnRuR\\nYYboc+IcylP5TlKL58jpwEfu\\n=z877\\n-----END PGP SIGNATURE-----\\n\\n--\\n-----------------\\nR. A. Hettinga <mailto: rah@ibuc.com>\\nThe Internet Bearer Underwriting Corporation <http://www.ibuc.com/>\\n44 Farquhar Street, Boston, MA 02131 USA\\n\"... however it may deserve respect for its usefulness and antiquity,\\n[predicting the end of the world] has not been found agreeable to\\nexperience.\" -- Edward Gibbon, \\'Decline and Fall of the Roman Empire\\'\\n\\n\\n\\n\\n'"
      ]
     },
     "execution_count": 55,
     "metadata": {},
     "output_type": "execute_result"
    }
   ],
   "source": [
    "email_to_text(X_train[0])"
   ]
  }
 ],
 "metadata": {
  "kernelspec": {
   "display_name": "Python 3",
   "language": "python",
   "name": "python3"
  },
  "language_info": {
   "codemirror_mode": {
    "name": "ipython",
    "version": 3
   },
   "file_extension": ".py",
   "mimetype": "text/x-python",
   "name": "python",
   "nbconvert_exporter": "python",
   "pygments_lexer": "ipython3",
   "version": "3.6.3"
  }
 },
 "nbformat": 4,
 "nbformat_minor": 2
}
